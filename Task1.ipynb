{
  "nbformat": 4,
  "nbformat_minor": 0,
  "metadata": {
    "kernelspec": {
      "display_name": "Python 3",
      "language": "python",
      "name": "python3"
    },
    "language_info": {
      "codemirror_mode": {
        "name": "ipython",
        "version": 3
      },
      "file_extension": ".py",
      "mimetype": "text/x-python",
      "name": "python",
      "nbconvert_exporter": "python",
      "pygments_lexer": "ipython3",
      "version": "3.8.1"
    },
    "colab": {
      "name": "Assignment 1.ipynb",
      "provenance": [],
      "include_colab_link": true
    }
  },
  "cells": [
    {
      "cell_type": "markdown",
      "metadata": {
        "id": "view-in-github",
        "colab_type": "text"
      },
      "source": [
        "<a href=\"https://colab.research.google.com/github/rishabhm4/DeepLearning-task/blob/master/Task1.ipynb\" target=\"_parent\"><img src=\"https://colab.research.google.com/assets/colab-badge.svg\" alt=\"Open In Colab\"/></a>"
      ]
    },
    {
      "cell_type": "markdown",
      "metadata": {
        "id": "N904TjPnwZ8F",
        "colab_type": "text"
      },
      "source": [
        "# Assignment 1: Let the Tensors Flow"
      ]
    },
    {
      "cell_type": "code",
      "metadata": {
        "id": "tlS5UNAIwZ8H",
        "colab_type": "code",
        "colab": {}
      },
      "source": [
        "import tensorflow as tf\n",
        "import numpy as np\n",
        "import matplotlib.pyplot as plt\n",
        "from datasets import MNISTDataset"
      ],
      "execution_count": 0,
      "outputs": []
    },
    {
      "cell_type": "code",
      "metadata": {
        "id": "-VzwaFTywZ8O",
        "colab_type": "code",
        "colab": {}
      },
      "source": [
        "from tensorflow.keras.datasets import mnist"
      ],
      "execution_count": 0,
      "outputs": []
    },
    {
      "cell_type": "code",
      "metadata": {
        "id": "fXEejTc7wZ8U",
        "colab_type": "code",
        "colab": {},
        "outputId": "1237c251-e82e-427a-d585-c2f57db0f61b"
      },
      "source": [
        "mnist = tf.keras.datasets.mnist\n",
        "(train_images, train_labels), (test_images, test_labels) = mnist.load_data()\n",
        "\n",
        "plt.imshow(train_images[0], cmap=\"Greys_r\")\n",
        "\n",
        "data = MNISTDataset(train_images.reshape([-1, 784]), train_labels, \n",
        "                    test_images.reshape([-1, 784]), test_labels,\n",
        "                    batch_size=128)"
      ],
      "execution_count": 0,
      "outputs": [
        {
          "output_type": "display_data",
          "data": {
            "image/png": "[encoded data removed]",
            "text/plain": [
              "<Figure size 432x288 with 1 Axes>"
            ]
          },
          "metadata": {
            "tags": [],
            "needs_background": "light"
          }
        }
      ]
    },
    {
      "cell_type": "code",
      "metadata": {
        "id": "RJrIablSwZ8b",
        "colab_type": "code",
        "colab": {}
      },
      "source": [
        ""
      ],
      "execution_count": 0,
      "outputs": []
    },
    {
      "cell_type": "markdown",
      "metadata": {
        "id": "2VvVdiAZwZ8f",
        "colab_type": "text"
      },
      "source": [
        "### Setting up training"
      ]
    },
    {
      "cell_type": "code",
      "metadata": {
        "id": "FYoesaUTwZ8g",
        "colab_type": "code",
        "colab": {}
      },
      "source": [
        "train_steps = 1000\n",
        "learning_rate = 0.1"
      ],
      "execution_count": 0,
      "outputs": []
    },
    {
      "cell_type": "markdown",
      "metadata": {
        "id": "8baxsxuXwZ8k",
        "colab_type": "text"
      },
      "source": [
        "### Weights and Baises Initialization"
      ]
    },
    {
      "cell_type": "markdown",
      "metadata": {
        "id": "8qBuyKkvwZ8l",
        "colab_type": "text"
      },
      "source": [
        "**Do we need to initialize weight with random values**\n",
        "\n",
        "To answer this question we tested the MLP with and without random weight initialization. The results shows that the MLP will perform only when weights are assigned randomly, else the prediction without random initialization .i.e. 0 assignment as per our results is ~11% accuracy\n",
        "\n",
        "_Reason_ : Break Symmetry"
      ]
    },
    {
      "cell_type": "code",
      "metadata": {
        "id": "AeKCO-huwZ8l",
        "colab_type": "code",
        "colab": {}
      },
      "source": [
        "\n",
        "W= tf.Variable(tf.random.uniform(shape = [784,50], minval=-0.1,maxval=0.1, dtype=tf.float32, seed=42))\n",
        "b = tf.Variable( tf.random.uniform(shape = [50], minval=-0.1,maxval=0.1, dtype=tf.float32, seed=42))\n",
        "\n",
        "W1= tf.Variable(tf.random.uniform(shape = [50,10], minval=-0.1,maxval=0.1, dtype=tf.float32, seed=42))\n",
        "b1 =tf.Variable( tf.random.uniform(shape = [10], minval=-0.1,maxval=0.1, dtype=tf.float32, seed=42))\n"
      ],
      "execution_count": 0,
      "outputs": []
    },
    {
      "cell_type": "markdown",
      "metadata": {
        "id": "4L8ZhQE0wZ8q",
        "colab_type": "text"
      },
      "source": [
        "### Training data"
      ]
    },
    {
      "cell_type": "code",
      "metadata": {
        "id": "wTnQvMAYwZ8r",
        "colab_type": "code",
        "colab": {},
        "outputId": "a257cc6e-60ef-4779-aa36-3a5d4eab17fa"
      },
      "source": [
        "for step in range(train_steps):\n",
        "    img_batch, lbl_batch = data.next_batch()\n",
        "    with tf.GradientTape() as tape:\n",
        "        logits = tf.matmul(tf.nn.relu(tf.matmul(img_batch, W) + b),W1) +b1 \n",
        "    \n",
        "        xent = tf.reduce_mean(tf.nn.sparse_softmax_cross_entropy_with_logits(\n",
        "            logits=logits, labels=lbl_batch))\n",
        "        \n",
        "        \n",
        "    dW, db, dW1, db1 = tape.gradient(xent, [W, b, W1, b1])    \n",
        "    \n",
        "    W.assign_sub(learning_rate * dW)\n",
        "    b.assign_sub(learning_rate * db)\n",
        "    W1.assign_sub(learning_rate * dW1)\n",
        "    b1.assign_sub(learning_rate * db1)\n",
        "    \n",
        "        \n",
        "    if not step % 100:\n",
        "        preds = tf.argmax(logits, axis=1, output_type=tf.int32)\n",
        "        acc = tf.reduce_mean(tf.cast(tf.equal(preds, lbl_batch),\n",
        "                             tf.float32))\n",
        "        print(\"Loss: {} Accuracy: {}\".format(xent, acc))"
      ],
      "execution_count": 0,
      "outputs": [
        {
          "output_type": "stream",
          "text": [
            "Loss: 2.328731060028076 Accuracy: 0.09375\n",
            "Starting new epoch...\n",
            "Loss: 0.39792025089263916 Accuracy: 0.921875\n",
            "Loss: 0.3837096095085144 Accuracy: 0.8828125\n",
            "Loss: 0.5811028480529785 Accuracy: 0.8203125\n",
            "Loss: 0.3419756293296814 Accuracy: 0.890625\n",
            "Loss: 0.28436556458473206 Accuracy: 0.9375\n",
            "Starting new epoch...\n",
            "Loss: 0.20848271250724792 Accuracy: 0.9453125\n",
            "Loss: 0.27374231815338135 Accuracy: 0.90625\n",
            "Loss: 0.3277894854545593 Accuracy: 0.921875\n",
            "Loss: 0.3091203570365906 Accuracy: 0.90625\n"
          ],
          "name": "stdout"
        }
      ]
    },
    {
      "cell_type": "markdown",
      "metadata": {
        "id": "BAf3D23_wZ8w",
        "colab_type": "text"
      },
      "source": [
        "### Testing data"
      ]
    },
    {
      "cell_type": "code",
      "metadata": {
        "id": "Ill_yHsHwZ8z",
        "colab_type": "code",
        "colab": {},
        "outputId": "9eec788e-d57a-4d3e-85c5-64ae839799e6"
      },
      "source": [
        "test_preds = tf.argmax( tf.matmul(tf.nn.relu(tf.matmul(data.test_data, W) + b),W1) +b1                \n",
        "                       , axis=1, output_type=tf.int32)\n",
        "acc1 = tf.reduce_mean(tf.cast(tf.equal(test_preds, data.test_labels),\n",
        "                             tf.float32))\n",
        "print(acc1)"
      ],
      "execution_count": 0,
      "outputs": [
        {
          "output_type": "stream",
          "text": [
            "tf.Tensor(0.833, shape=(), dtype=float32)\n"
          ],
          "name": "stdout"
        }
      ]
    },
    {
      "cell_type": "markdown",
      "metadata": {
        "id": "zQePGPaHwZ83",
        "colab_type": "text"
      },
      "source": [
        "### Accuracy: Different Training Steps"
      ]
    },
    {
      "cell_type": "code",
      "metadata": {
        "id": "rgqMUNUswZ84",
        "colab_type": "code",
        "colab": {},
        "outputId": "e2cb2272-76c2-4cf5-d6b4-bfd7674c2b77"
      },
      "source": [
        "acc5=[]\n",
        "ts=np.array([500,1000,2000,3000])\n",
        "for train_steps in ts:\n",
        "    W= tf.Variable(tf.random.uniform(shape = [784,50], minval=-0.1,maxval=0.1, dtype=tf.float32, seed=10))\n",
        "    b = tf.Variable( tf.random.uniform(shape = [50], minval=-0.1,maxval=0.1, dtype=tf.float32, seed=10))\n",
        "\n",
        "    W1= tf.Variable(tf.random.uniform(shape = [50,10], minval=-0.1,maxval=0.1, dtype=tf.float32, seed=10))\n",
        "    b1 =tf.Variable( tf.random.uniform(shape = [10], minval=-0.1,maxval=0.1, dtype=tf.float32, seed=10))\n",
        "\n",
        "\n",
        "    for step in range(train_steps):\n",
        "        img_batch, lbl_batch = data.next_batch()\n",
        "        with tf.GradientTape() as tape:\n",
        "            logits = tf.matmul(tf.nn.relu(tf.matmul(img_batch, W) + b),W1) +b1 \n",
        "            xent = tf.reduce_mean(tf.nn.sparse_softmax_cross_entropy_with_logits(\n",
        "            logits=logits, labels=lbl_batch))\n",
        "        \n",
        "        \n",
        "        dW, db, dW1, db1 = tape.gradient(xent, [W, b, W1, b1])    \n",
        "    \n",
        "        W.assign_sub(learning_rate * dW)\n",
        "        b.assign_sub(learning_rate * db)\n",
        "        W1.assign_sub(learning_rate * dW1)\n",
        "        b1.assign_sub(learning_rate * db1)\n",
        "    \n",
        "        \n",
        "        if not step % 100:\n",
        "            preds = tf.argmax(logits, axis=1, output_type=tf.int32)\n",
        "            acc = tf.reduce_mean(tf.cast(tf.equal(preds, lbl_batch),\n",
        "                             tf.float32))\n",
        "            print(\"Loss: {} Accuracy: {}\".format(xent, acc))\n",
        "        \n",
        "        \n",
        "    test_preds = tf.argmax( tf.matmul(tf.nn.relu(tf.matmul(data.test_data, W) + b),W1) +b1                \n",
        "                       , axis=1, output_type=tf.int32)\n",
        "    acc1 = tf.reduce_mean(tf.cast(tf.equal(test_preds, data.test_labels),\n",
        "                             tf.float32))\n",
        "\n",
        "    acc5 = np.append(acc5,acc1.numpy())\n",
        "    \n",
        "print(acc5)"
      ],
      "execution_count": 0,
      "outputs": [
        {
          "output_type": "stream",
          "text": [
            "Loss: 2.3458411693573 Accuracy: 0.1015625\n",
            "Loss: 0.6229236125946045 Accuracy: 0.8359375\n",
            "Loss: 0.409920871257782 Accuracy: 0.875\n",
            "Loss: 0.3185707628726959 Accuracy: 0.890625\n",
            "Loss: 0.30752742290496826 Accuracy: 0.9296875\n",
            "Starting new epoch...\n",
            "Loss: 2.2861196994781494 Accuracy: 0.125\n",
            "Loss: 0.6598182320594788 Accuracy: 0.8515625\n",
            "Loss: 0.5465779304504395 Accuracy: 0.8671875\n",
            "Loss: 0.4870196580886841 Accuracy: 0.859375\n",
            "Loss: 0.32970714569091797 Accuracy: 0.890625\n",
            "Starting new epoch...\n",
            "Loss: 0.3010375499725342 Accuracy: 0.9453125\n",
            "Loss: 0.3434561491012573 Accuracy: 0.90625\n",
            "Loss: 0.2714468240737915 Accuracy: 0.9140625\n",
            "Loss: 0.228459894657135 Accuracy: 0.953125\n",
            "Loss: 0.24414145946502686 Accuracy: 0.9140625\n",
            "Starting new epoch...\n",
            "Loss: 2.3111343383789062 Accuracy: 0.1328125\n",
            "Loss: 0.6714768409729004 Accuracy: 0.875\n",
            "Loss: 0.37636178731918335 Accuracy: 0.90625\n",
            "Loss: 0.32011497020721436 Accuracy: 0.8984375\n",
            "Starting new epoch...\n",
            "Loss: 0.2712978720664978 Accuracy: 0.9453125\n",
            "Loss: 0.27122998237609863 Accuracy: 0.9296875\n",
            "Loss: 0.416439414024353 Accuracy: 0.875\n",
            "Loss: 0.32853513956069946 Accuracy: 0.90625\n",
            "Loss: 0.24440987408161163 Accuracy: 0.9296875\n",
            "Starting new epoch...\n",
            "Loss: 0.15498414635658264 Accuracy: 0.953125\n",
            "Loss: 0.26060032844543457 Accuracy: 0.9375\n",
            "Loss: 0.21079564094543457 Accuracy: 0.9453125\n",
            "Loss: 0.3512905538082123 Accuracy: 0.875\n",
            "Loss: 0.30124181509017944 Accuracy: 0.8984375\n",
            "Starting new epoch...\n",
            "Loss: 0.20351383090019226 Accuracy: 0.9453125\n",
            "Loss: 0.2957538962364197 Accuracy: 0.921875\n",
            "Loss: 0.17404061555862427 Accuracy: 0.9375\n",
            "Loss: 0.17673033475875854 Accuracy: 0.953125\n",
            "Starting new epoch...\n",
            "Loss: 0.24443753063678741 Accuracy: 0.90625\n",
            "Loss: 0.1343531459569931 Accuracy: 0.9609375\n",
            "Loss: 2.321023941040039 Accuracy: 0.1171875\n",
            "Loss: 0.5637235045433044 Accuracy: 0.828125\n",
            "Loss: 0.5196129083633423 Accuracy: 0.828125\n",
            "Starting new epoch...\n",
            "Loss: 0.39514437317848206 Accuracy: 0.890625\n",
            "Loss: 0.39767155051231384 Accuracy: 0.875\n",
            "Loss: 0.30584216117858887 Accuracy: 0.8984375\n",
            "Loss: 0.36643218994140625 Accuracy: 0.890625\n",
            "Loss: 0.35528987646102905 Accuracy: 0.90625\n",
            "Starting new epoch...\n",
            "Loss: 0.2999385595321655 Accuracy: 0.9296875\n",
            "Loss: 0.3863772749900818 Accuracy: 0.8984375\n",
            "Loss: 0.19268640875816345 Accuracy: 0.9296875\n",
            "Loss: 0.3811281621456146 Accuracy: 0.9296875\n",
            "Starting new epoch...\n",
            "Loss: 0.31732434034347534 Accuracy: 0.9453125\n",
            "Loss: 0.2979818284511566 Accuracy: 0.9140625\n",
            "Loss: 0.15514057874679565 Accuracy: 0.953125\n",
            "Loss: 0.15020577609539032 Accuracy: 0.9609375\n",
            "Loss: 0.29920071363449097 Accuracy: 0.953125\n",
            "Starting new epoch...\n",
            "Loss: 0.23378120362758636 Accuracy: 0.90625\n",
            "Loss: 0.1407197117805481 Accuracy: 0.9375\n",
            "Loss: 0.33920028805732727 Accuracy: 0.90625\n",
            "Loss: 0.259486585855484 Accuracy: 0.921875\n",
            "Loss: 0.1941489577293396 Accuracy: 0.953125\n",
            "Starting new epoch...\n",
            "Loss: 0.14252810180187225 Accuracy: 0.9609375\n",
            "Loss: 0.2134525328874588 Accuracy: 0.953125\n",
            "Loss: 0.12363513559103012 Accuracy: 0.9609375\n",
            "Loss: 0.2173665165901184 Accuracy: 0.953125\n",
            "Starting new epoch...\n",
            "Loss: 0.17228969931602478 Accuracy: 0.9609375\n",
            "Loss: 0.11225631833076477 Accuracy: 0.9765625\n",
            "Loss: 0.1417125165462494 Accuracy: 0.96875\n",
            "Loss: 0.14032839238643646 Accuracy: 0.9765625\n",
            "[0.91240001 0.92640001 0.9411     0.95200002]\n"
          ],
          "name": "stdout"
        }
      ]
    },
    {
      "cell_type": "code",
      "metadata": {
        "id": "hY3MPhNGwZ88",
        "colab_type": "code",
        "colab": {},
        "outputId": "57e647ae-4f85-49f3-ffbe-c1c5aaab8d1d"
      },
      "source": [
        "plt.plot(ts,acc5,marker='o',linestyle='dashed')\n",
        "plt.xlabel(\"Training Steps\")\n",
        "plt.ylabel(\"Accuracy\")\n",
        "plt.ylim(.90,.98)\n",
        "plt.title(\"Training Steps-Accuracy plot\")\n",
        "for i, txt in enumerate(ts):\n",
        "    plt.annotate(txt,(ts[i],acc5[i]))"
      ],
      "execution_count": 0,
      "outputs": [
        {
          "output_type": "display_data",
          "data": {
            "image/png": "[encoded data removed]",
            "text/plain": [
              "<Figure size 432x288 with 1 Axes>"
            ]
          },
          "metadata": {
            "tags": [],
            "needs_background": "light"
          }
        }
      ]
    },
    {
      "cell_type": "markdown",
      "metadata": {
        "id": "vRwnw9mrwZ9B",
        "colab_type": "text"
      },
      "source": [
        "### Accuracy: Different Learning rate\n",
        "\n",
        "We used the following Learning rates: 0.1, 0.01, 0.001, 0.0001"
      ]
    },
    {
      "cell_type": "code",
      "metadata": {
        "scrolled": true,
        "id": "sOhuvLkCwZ9C",
        "colab_type": "code",
        "colab": {},
        "outputId": "e6f2f935-3746-43c5-a3d7-5f247bb2ff15"
      },
      "source": [
        "acc3=[]\n",
        "lr=np.array([0.1,0.01,0.001,0.0001])\n",
        "for learning_rate in lr:\n",
        "    W= tf.Variable(tf.random.uniform(shape = [784,50], minval=-0.1,maxval=0.1, dtype=tf.float32, seed=10))\n",
        "    b = tf.Variable( tf.random.uniform(shape = [50], minval=-0.1,maxval=0.1, dtype=tf.float32, seed=10))\n",
        "\n",
        "    W1= tf.Variable(tf.random.uniform(shape = [50,10], minval=-0.1,maxval=0.1, dtype=tf.float32, seed=10))\n",
        "    b1 =tf.Variable( tf.random.uniform(shape = [10], minval=-0.1,maxval=0.1, dtype=tf.float32, seed=10))\n",
        "\n",
        "\n",
        "    for step in range(train_steps):\n",
        "        img_batch, lbl_batch = data.next_batch()\n",
        "        with tf.GradientTape() as tape:\n",
        "            logits = tf.matmul(tf.nn.relu(tf.matmul(img_batch, W) + b),W1) +b1 \n",
        "            xent = tf.reduce_mean(tf.nn.sparse_softmax_cross_entropy_with_logits(\n",
        "            logits=logits, labels=lbl_batch))\n",
        "        \n",
        "        \n",
        "        dW, db, dW1, db1 = tape.gradient(xent, [W, b, W1, b1])    \n",
        "    \n",
        "        W.assign_sub(learning_rate * dW)\n",
        "        b.assign_sub(learning_rate * db)\n",
        "        W1.assign_sub(learning_rate * dW1)\n",
        "        b1.assign_sub(learning_rate * db1)\n",
        "    \n",
        "        \n",
        "        if not step % 100:\n",
        "            preds = tf.argmax(logits, axis=1, output_type=tf.int32)\n",
        "            acc = tf.reduce_mean(tf.cast(tf.equal(preds, lbl_batch),\n",
        "                             tf.float32))\n",
        "            print(\"Loss: {} Accuracy: {}\".format(xent, acc))\n",
        "        \n",
        "        \n",
        "    test_preds = tf.argmax( tf.matmul(tf.nn.relu(tf.matmul(data.test_data, W) + b),W1) +b1                \n",
        "                       , axis=1, output_type=tf.int32)\n",
        "    acc1 = tf.reduce_mean(tf.cast(tf.equal(test_preds, data.test_labels),\n",
        "                             tf.float32))\n",
        "\n",
        "    acc3 = np.append(acc3,acc1.numpy())\n",
        "    \n",
        "print(acc3)"
      ],
      "execution_count": 0,
      "outputs": [
        {
          "output_type": "stream",
          "text": [
            "Loss: 2.319606065750122 Accuracy: 0.0625\n",
            "Starting new epoch...\n",
            "Loss: 0.7214456796646118 Accuracy: 0.78125\n",
            "Loss: 0.40193381905555725 Accuracy: 0.875\n",
            "Loss: 0.3655748963356018 Accuracy: 0.890625\n",
            "Loss: 0.32726240158081055 Accuracy: 0.8828125\n",
            "Starting new epoch...\n",
            "Loss: 0.40029388666152954 Accuracy: 0.890625\n",
            "Loss: 0.23018306493759155 Accuracy: 0.9453125\n",
            "Loss: 0.3189260959625244 Accuracy: 0.90625\n",
            "Loss: 0.26737532019615173 Accuracy: 0.9140625\n",
            "Loss: 0.40616801381111145 Accuracy: 0.9140625\n",
            "Starting new epoch...\n",
            "Loss: 2.3408000469207764 Accuracy: 0.0625\n",
            "Loss: 2.174318552017212 Accuracy: 0.3125\n",
            "Loss: 1.940419316291809 Accuracy: 0.5703125\n",
            "Loss: 1.6202540397644043 Accuracy: 0.671875\n",
            "Loss: 1.3645085096359253 Accuracy: 0.6875\n",
            "Starting new epoch...\n",
            "Loss: 1.1392710208892822 Accuracy: 0.765625\n",
            "Loss: 1.0640368461608887 Accuracy: 0.7578125\n",
            "Loss: 0.8178439140319824 Accuracy: 0.8203125\n",
            "Loss: 0.7772797346115112 Accuracy: 0.8125\n",
            "Starting new epoch...\n",
            "Loss: 0.6884652972221375 Accuracy: 0.8125\n",
            "Loss: 2.3327910900115967 Accuracy: 0.015625\n",
            "Loss: 2.2827906608581543 Accuracy: 0.1171875\n",
            "Loss: 2.3057453632354736 Accuracy: 0.09375\n",
            "Loss: 2.2945165634155273 Accuracy: 0.1328125\n",
            "Starting new epoch...\n",
            "Loss: 2.2734885215759277 Accuracy: 0.1875\n",
            "Loss: 2.254507303237915 Accuracy: 0.203125\n",
            "Loss: 2.232884645462036 Accuracy: 0.2109375\n",
            "Loss: 2.212218999862671 Accuracy: 0.265625\n",
            "Loss: 2.2220458984375 Accuracy: 0.2578125\n",
            "Starting new epoch...\n",
            "Loss: 2.2218971252441406 Accuracy: 0.2265625\n",
            "Loss: 2.3305416107177734 Accuracy: 0.1328125\n",
            "Loss: 2.3312714099884033 Accuracy: 0.1171875\n",
            "Loss: 2.3077359199523926 Accuracy: 0.140625\n",
            "Starting new epoch...\n",
            "Loss: 2.3030054569244385 Accuracy: 0.1875\n",
            "Loss: 2.312371015548706 Accuracy: 0.1796875\n",
            "Loss: 2.3128890991210938 Accuracy: 0.171875\n",
            "Loss: 2.311316967010498 Accuracy: 0.140625\n",
            "Loss: 2.294727087020874 Accuracy: 0.2265625\n",
            "Starting new epoch...\n",
            "Loss: 2.278451442718506 Accuracy: 0.203125\n",
            "Loss: 2.2792303562164307 Accuracy: 0.1796875\n",
            "[0.91759998 0.84570003 0.3592     0.1798    ]\n"
          ],
          "name": "stdout"
        }
      ]
    },
    {
      "cell_type": "code",
      "metadata": {
        "id": "ymwx9DuRwZ9G",
        "colab_type": "code",
        "colab": {},
        "outputId": "23ef8db9-37ff-4142-f6f8-f837f6aff060"
      },
      "source": [
        "plt.plot(lr,acc3,marker='o',linestyle='dashed')\n",
        "plt.xlabel(\"Learning Rate\")\n",
        "plt.ylabel(\"Accuracy\")\n",
        "plt.title(\"Learning rate-Accuracy plot\")\n",
        "for i, txt in enumerate(lr):\n",
        "    plt.annotate(txt,(lr[i],acc3[i]))"
      ],
      "execution_count": 0,
      "outputs": [
        {
          "output_type": "display_data",
          "data": {
            "image/png": "[encoded data removed]",
            "text/plain": [
              "<Figure size 432x288 with 1 Axes>"
            ]
          },
          "metadata": {
            "tags": [],
            "needs_background": "light"
          }
        }
      ]
    },
    {
      "cell_type": "markdown",
      "metadata": {
        "id": "00kSDBLlwZ9K",
        "colab_type": "text"
      },
      "source": [
        "### Accuracy: Different Combinations - Weights and Baises\n",
        "\n",
        "- W1,b1 = [784,50] W,b = [50,10]     - Accuracy = 92.78%\n",
        "- W1,b1 = [784,100] W,b = [100,10]   - Accuracy = 93.06%\n",
        "- W1,b1 = [784,200] W,b = [200,10]   - Accuracy = 93.31%\n",
        "- W1,b1 = [784,300] W,b = [300,10]   - Accuracy = 93.47%\n"
      ]
    },
    {
      "cell_type": "code",
      "metadata": {
        "id": "1RwNwSWLwZ9L",
        "colab_type": "code",
        "colab": {}
      },
      "source": [
        "y = np.array([0.9278,0.9306,0.9331,0.9347]) *100\n",
        "x= np.array([1,2,3,4])"
      ],
      "execution_count": 0,
      "outputs": []
    },
    {
      "cell_type": "code",
      "metadata": {
        "id": "nTHpVudiwZ9P",
        "colab_type": "code",
        "colab": {},
        "outputId": "0419bc8b-d047-4dac-8f3f-1753d6bb9969"
      },
      "source": [
        "plt.plot(x,y,marker='o',linestyle='dashed',color=\"red\")\n",
        "\n",
        "plt.ylim(92,94)\n",
        "plt.xlim(1,4)\n",
        "plt.ylabel(\"Accuracy %\")\n",
        "plt.title(\"Hidden Unit-Accuracy plot\")\n",
        "for i,txt in enumerate([\"50 Units\",\"100 Units\",\"200 Units\",\"300 Units\"]):\n",
        "    plt.annotate(txt,(x[i],y[i]))"
      ],
      "execution_count": 0,
      "outputs": [
        {
          "output_type": "display_data",
          "data": {
            "image/png": "[encoded data removed]",
            "text/plain": [
              "<Figure size 432x288 with 1 Axes>"
            ]
          },
          "metadata": {
            "tags": [],
            "needs_background": "light"
          }
        }
      ]
    },
    {
      "cell_type": "markdown",
      "metadata": {
        "id": "CeGXvw5RwZ9U",
        "colab_type": "text"
      },
      "source": [
        "### Accuracy: Different Activation Functions - In Hidden Layers\n",
        "- Relu: 92.78%\n",
        "- Leaky Relu: 92.41%\n",
        "- Tanh: 92.57%"
      ]
    },
    {
      "cell_type": "code",
      "metadata": {
        "id": "FZssKaIowZ9V",
        "colab_type": "code",
        "colab": {},
        "outputId": "1ae3cc21-9764-4719-a72a-693037d11dd8"
      },
      "source": [
        "y = [92.78,92.41,92.57]\n",
        "x = [1,2,3]\n",
        "\n",
        "plt.subplots()\n",
        "plt.scatter(x,y,color='red')\n",
        "plt.ylim(91,94)\n",
        "plt.ylabel(\"Accuracy %\")\n",
        "plt.title(\"Activation functions-Accuracy plot\")\n",
        "n = [\"Relu\",\"Leaky Relu\",\"Tanh\"]\n",
        "for i,txt in enumerate(n):\n",
        "    plt.annotate(txt,(x[i],y[i]))"
      ],
      "execution_count": 0,
      "outputs": [
        {
          "output_type": "display_data",
          "data": {
            "image/png": "[encoded data removed]",
            "text/plain": [
              "<Figure size 432x288 with 1 Axes>"
            ]
          },
          "metadata": {
            "tags": [],
            "needs_background": "light"
          }
        }
      ]
    },
    {
      "cell_type": "markdown",
      "metadata": {
        "id": "jz_tOfMMwZ9a",
        "colab_type": "text"
      },
      "source": [
        "### Accuracy: Layers\n",
        "We used 2, 4, 6 and 8 hidden layers to test accuracy"
      ]
    },
    {
      "cell_type": "code",
      "metadata": {
        "id": "NykTHDAMwZ9b",
        "colab_type": "code",
        "colab": {},
        "outputId": "c75b1b42-edc6-456b-d218-ffe750b3d6aa"
      },
      "source": [
        "Accuracy= np.array([.9244 ,  .9583 , .9686,  .9573 ]) * 100\n",
        "Layers= np.array([2, 4, 6, 8])\n",
        "plt.plot(Layers,Accuracy,marker=\"o\")\n",
        "plt.ylim([91,98])\n",
        "plt.title(\"Layers-Accuracy plot\")\n",
        "plt.ylabel(\"Accuracy %\")\n",
        "plt.xlabel(\"No. of Hidden layers\")\n"
      ],
      "execution_count": 0,
      "outputs": [
        {
          "output_type": "execute_result",
          "data": {
            "text/plain": [
              "Text(0.5, 0, 'No. of Hidden layers')"
            ]
          },
          "metadata": {
            "tags": []
          },
          "execution_count": 307
        },
        {
          "output_type": "display_data",
          "data": {
            "image/png": "[encoded data removed]",
            "text/plain": [
              "<Figure size 432x288 with 1 Axes>"
            ]
          },
          "metadata": {
            "tags": [],
            "needs_background": "light"
          }
        }
      ]
    },
    {
      "cell_type": "markdown",
      "metadata": {
        "id": "-l52tl_nwZ9f",
        "colab_type": "text"
      },
      "source": [
        "## Using Zalando fashion dataset"
      ]
    },
    {
      "cell_type": "code",
      "metadata": {
        "id": "w2H2K1BKwZ9f",
        "colab_type": "code",
        "colab": {},
        "outputId": "a31768bb-2f6a-4ae6-d497-0a2731aa7a5c"
      },
      "source": [
        "from tensorflow.keras.datasets import fashion_mnist\n",
        "mnist = tf.keras.datasets.fashion_mnist\n",
        "(train_images, train_labels), (test_images, test_labels) = mnist.load_data()\n",
        "\n",
        "plt.imshow(train_images[0], cmap=\"Greys_r\")\n",
        "\n",
        "data = MNISTDataset(train_images.reshape([-1, 784]), train_labels, \n",
        "                    test_images.reshape([-1, 784]), test_labels,\n",
        "                    batch_size=128)"
      ],
      "execution_count": 0,
      "outputs": [
        {
          "output_type": "display_data",
          "data": {
            "image/png": "[encoded data removed]",
            "text/plain": [
              "<Figure size 432x288 with 1 Axes>"
            ]
          },
          "metadata": {
            "tags": [],
            "needs_background": "light"
          }
        }
      ]
    },
    {
      "cell_type": "code",
      "metadata": {
        "id": "LnDRRiImwZ9j",
        "colab_type": "code",
        "colab": {}
      },
      "source": [
        "train_steps = 1000\n",
        "learning_rate = 0.1\n",
        "W= tf.Variable(tf.random.uniform(shape = [784,50], minval=-0.1,maxval=0.1, dtype=tf.float32, seed=42))\n",
        "b = tf.Variable( tf.random.uniform(shape = [50], minval=-0.1,maxval=0.1, dtype=tf.float32, seed=42))\n",
        "\n",
        "W1= tf.Variable(tf.random.uniform(shape = [50,10], minval=-0.1,maxval=0.1, dtype=tf.float32, seed=42))\n",
        "b1 =tf.Variable( tf.random.uniform(shape = [10], minval=-0.1,maxval=0.1, dtype=tf.float32, seed=42))\n"
      ],
      "execution_count": 0,
      "outputs": []
    },
    {
      "cell_type": "code",
      "metadata": {
        "id": "t6Nv4X5nwZ9m",
        "colab_type": "code",
        "colab": {},
        "outputId": "56e4b07e-cd5f-4b1c-f2d7-11a8fefc3223"
      },
      "source": [
        "for step in range(train_steps):\n",
        "    img_batch, lbl_batch = data.next_batch()\n",
        "    with tf.GradientTape() as tape:\n",
        "        logits = tf.matmul(tf.nn.relu(tf.matmul(img_batch, W) + b),W1) +b1 \n",
        "    \n",
        "        xent = tf.reduce_mean(tf.nn.sparse_softmax_cross_entropy_with_logits(\n",
        "            logits=logits, labels=lbl_batch))\n",
        "        \n",
        "        \n",
        "    dW, db, dW1, db1 = tape.gradient(xent, [W, b, W1, b1])    \n",
        "    \n",
        "    W.assign_sub(learning_rate * dW)\n",
        "    b.assign_sub(learning_rate * db)\n",
        "    W1.assign_sub(learning_rate * dW1)\n",
        "    b1.assign_sub(learning_rate * db1)\n",
        "    \n",
        "        \n",
        "    if not step % 100:\n",
        "        preds = tf.argmax(logits, axis=1, output_type=tf.int32)\n",
        "        acc = tf.reduce_mean(tf.cast(tf.equal(preds, lbl_batch),\n",
        "                             tf.float32))\n",
        "        print(\"Loss: {} Accuracy: {}\".format(xent, acc))"
      ],
      "execution_count": 0,
      "outputs": [
        {
          "output_type": "stream",
          "text": [
            "Loss: 2.2936792373657227 Accuracy: 0.0703125\n",
            "Loss: 0.9000065326690674 Accuracy: 0.703125\n",
            "Loss: 0.8092596530914307 Accuracy: 0.7421875\n",
            "Loss: 0.618045449256897 Accuracy: 0.765625\n",
            "Loss: 0.6117556095123291 Accuracy: 0.7578125\n",
            "Starting new epoch...\n",
            "Loss: 0.5066136121749878 Accuracy: 0.796875\n",
            "Loss: 0.591576099395752 Accuracy: 0.765625\n",
            "Loss: 0.42253533005714417 Accuracy: 0.8515625\n",
            "Loss: 0.5823190808296204 Accuracy: 0.765625\n",
            "Loss: 0.36176598072052 Accuracy: 0.8515625\n",
            "Starting new epoch...\n"
          ],
          "name": "stdout"
        }
      ]
    },
    {
      "cell_type": "code",
      "metadata": {
        "id": "iz0mAN_vwZ9q",
        "colab_type": "code",
        "colab": {},
        "outputId": "eda938ba-1562-4a80-afdb-84b06e2c5e72"
      },
      "source": [
        "test_preds = tf.argmax( tf.matmul(tf.nn.relu(tf.matmul(data.test_data, W) + b),W1) +b1                \n",
        "                       , axis=1, output_type=tf.int32)\n",
        "acc1 = tf.reduce_mean(tf.cast(tf.equal(test_preds, data.test_labels),\n",
        "                             tf.float32))\n",
        "print(acc1)"
      ],
      "execution_count": 0,
      "outputs": [
        {
          "output_type": "stream",
          "text": [
            "tf.Tensor(0.833, shape=(), dtype=float32)\n"
          ],
          "name": "stdout"
        }
      ]
    },
    {
      "cell_type": "markdown",
      "metadata": {
        "id": "U_Tp19tCwZ9t",
        "colab_type": "text"
      },
      "source": [
        "# Thank You"
      ]
    },
    {
      "cell_type": "code",
      "metadata": {
        "id": "TG5V3Q9mwZ9u",
        "colab_type": "code",
        "colab": {}
      },
      "source": [
        ""
      ],
      "execution_count": 0,
      "outputs": []
    }
  ]
}